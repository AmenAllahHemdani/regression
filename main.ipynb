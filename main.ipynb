{
 "cells": [
  {
   "cell_type": "code",
   "execution_count": 495,
   "metadata": {},
   "outputs": [],
   "source": [
    "import pandas as pd\n",
    "import numpy as np\n",
    "import matplotlib.pyplot as plt\n",
    "import seaborn as sns\n",
    "\n",
    "from sklearn.model_selection import train_test_split, cross_val_score, GridSearchCV, RandomizedSearchCV\n",
    "from sklearn.neighbors import KNeighborsRegressor\n",
    "from sklearn.metrics import mean_squared_error as MSE ,r2_score\n",
    "from sklearn.linear_model import LinearRegression, Lasso, Ridge\n",
    "from sklearn.ensemble import RandomForestRegressor, GradientBoostingRegressor, BaggingClassifier\n",
    "from sklearn.tree import DecisionTreeRegressor\n",
    "from sklearn.preprocessing import StandardScaler\n"
   ]
  },
  {
   "cell_type": "code",
   "execution_count": 496,
   "metadata": {},
   "outputs": [],
   "source": [
    "df = pd.read_csv(\"shoes_prices.csv\")"
   ]
  },
  {
   "cell_type": "code",
   "execution_count": 497,
   "metadata": {},
   "outputs": [
    {
     "data": {
      "text/html": [
       "<div>\n",
       "<style scoped>\n",
       "    .dataframe tbody tr th:only-of-type {\n",
       "        vertical-align: middle;\n",
       "    }\n",
       "\n",
       "    .dataframe tbody tr th {\n",
       "        vertical-align: top;\n",
       "    }\n",
       "\n",
       "    .dataframe thead th {\n",
       "        text-align: right;\n",
       "    }\n",
       "</style>\n",
       "<table border=\"1\" class=\"dataframe\">\n",
       "  <thead>\n",
       "    <tr style=\"text-align: right;\">\n",
       "      <th></th>\n",
       "      <th>brand</th>\n",
       "      <th>color</th>\n",
       "      <th>size</th>\n",
       "      <th>price</th>\n",
       "      <th>offer_price</th>\n",
       "    </tr>\n",
       "  </thead>\n",
       "  <tbody>\n",
       "    <tr>\n",
       "      <th>0</th>\n",
       "      <td>Tresmode</td>\n",
       "      <td>Black</td>\n",
       "      <td>6.5</td>\n",
       "      <td>4647</td>\n",
       "      <td>4153</td>\n",
       "    </tr>\n",
       "    <tr>\n",
       "      <th>1</th>\n",
       "      <td>Lavie</td>\n",
       "      <td>Gold</td>\n",
       "      <td>4</td>\n",
       "      <td>2446</td>\n",
       "      <td>1172</td>\n",
       "    </tr>\n",
       "    <tr>\n",
       "      <th>2</th>\n",
       "      <td>FILA</td>\n",
       "      <td>Red</td>\n",
       "      <td>6</td>\n",
       "      <td>2346</td>\n",
       "      <td>1898</td>\n",
       "    </tr>\n",
       "    <tr>\n",
       "      <th>3</th>\n",
       "      <td>Crocs</td>\n",
       "      <td>Red</td>\n",
       "      <td>5</td>\n",
       "      <td>5942</td>\n",
       "      <td>5868</td>\n",
       "    </tr>\n",
       "    <tr>\n",
       "      <th>4</th>\n",
       "      <td>Crocs</td>\n",
       "      <td>Blue</td>\n",
       "      <td>4</td>\n",
       "      <td>2942</td>\n",
       "      <td>2118</td>\n",
       "    </tr>\n",
       "  </tbody>\n",
       "</table>\n",
       "</div>"
      ],
      "text/plain": [
       "      brand  color size  price  offer_price\n",
       "0  Tresmode  Black  6.5   4647         4153\n",
       "1     Lavie   Gold    4   2446         1172\n",
       "2      FILA    Red    6   2346         1898\n",
       "3     Crocs    Red    5   5942         5868\n",
       "4     Crocs   Blue    4   2942         2118"
      ]
     },
     "execution_count": 497,
     "metadata": {},
     "output_type": "execute_result"
    }
   ],
   "source": [
    "df.head()"
   ]
  },
  {
   "cell_type": "code",
   "execution_count": 498,
   "metadata": {},
   "outputs": [
    {
     "name": "stdout",
     "output_type": "stream",
     "text": [
      "<class 'pandas.core.frame.DataFrame'>\n",
      "RangeIndex: 5679 entries, 0 to 5678\n",
      "Data columns (total 5 columns):\n",
      " #   Column       Non-Null Count  Dtype \n",
      "---  ------       --------------  ----- \n",
      " 0   brand        5679 non-null   object\n",
      " 1   color        5679 non-null   object\n",
      " 2   size         5679 non-null   object\n",
      " 3   price        5679 non-null   int64 \n",
      " 4   offer_price  5679 non-null   int64 \n",
      "dtypes: int64(2), object(3)\n",
      "memory usage: 222.0+ KB\n"
     ]
    }
   ],
   "source": [
    "df.info()"
   ]
  },
  {
   "cell_type": "code",
   "execution_count": 499,
   "metadata": {},
   "outputs": [
    {
     "data": {
      "text/html": [
       "<div>\n",
       "<style scoped>\n",
       "    .dataframe tbody tr th:only-of-type {\n",
       "        vertical-align: middle;\n",
       "    }\n",
       "\n",
       "    .dataframe tbody tr th {\n",
       "        vertical-align: top;\n",
       "    }\n",
       "\n",
       "    .dataframe thead th {\n",
       "        text-align: right;\n",
       "    }\n",
       "</style>\n",
       "<table border=\"1\" class=\"dataframe\">\n",
       "  <thead>\n",
       "    <tr style=\"text-align: right;\">\n",
       "      <th></th>\n",
       "      <th>price</th>\n",
       "      <th>offer_price</th>\n",
       "    </tr>\n",
       "  </thead>\n",
       "  <tbody>\n",
       "    <tr>\n",
       "      <th>count</th>\n",
       "      <td>5679.000000</td>\n",
       "      <td>5679.000000</td>\n",
       "    </tr>\n",
       "    <tr>\n",
       "      <th>mean</th>\n",
       "      <td>4945.126255</td>\n",
       "      <td>4007.745026</td>\n",
       "    </tr>\n",
       "    <tr>\n",
       "      <th>std</th>\n",
       "      <td>5344.881308</td>\n",
       "      <td>4761.543884</td>\n",
       "    </tr>\n",
       "    <tr>\n",
       "      <th>min</th>\n",
       "      <td>1346.000000</td>\n",
       "      <td>773.000000</td>\n",
       "    </tr>\n",
       "    <tr>\n",
       "      <th>25%</th>\n",
       "      <td>2942.000000</td>\n",
       "      <td>1968.000000</td>\n",
       "    </tr>\n",
       "    <tr>\n",
       "      <th>50%</th>\n",
       "      <td>3742.000000</td>\n",
       "      <td>2868.000000</td>\n",
       "    </tr>\n",
       "    <tr>\n",
       "      <th>75%</th>\n",
       "      <td>4646.000000</td>\n",
       "      <td>4048.000000</td>\n",
       "    </tr>\n",
       "    <tr>\n",
       "      <th>max</th>\n",
       "      <td>37947.000000</td>\n",
       "      <td>34123.000000</td>\n",
       "    </tr>\n",
       "  </tbody>\n",
       "</table>\n",
       "</div>"
      ],
      "text/plain": [
       "              price   offer_price\n",
       "count   5679.000000   5679.000000\n",
       "mean    4945.126255   4007.745026\n",
       "std     5344.881308   4761.543884\n",
       "min     1346.000000    773.000000\n",
       "25%     2942.000000   1968.000000\n",
       "50%     3742.000000   2868.000000\n",
       "75%     4646.000000   4048.000000\n",
       "max    37947.000000  34123.000000"
      ]
     },
     "execution_count": 499,
     "metadata": {},
     "output_type": "execute_result"
    }
   ],
   "source": [
    "df.describe()"
   ]
  },
  {
   "cell_type": "code",
   "execution_count": 500,
   "metadata": {},
   "outputs": [
    {
     "data": {
      "text/plain": [
       "(5679, 5)"
      ]
     },
     "execution_count": 500,
     "metadata": {},
     "output_type": "execute_result"
    }
   ],
   "source": [
    "df.shape"
   ]
  },
  {
   "cell_type": "code",
   "execution_count": 501,
   "metadata": {},
   "outputs": [
    {
     "data": {
      "text/plain": [
       "brand          0\n",
       "color          0\n",
       "size           0\n",
       "price          0\n",
       "offer_price    0\n",
       "dtype: int64"
      ]
     },
     "execution_count": 501,
     "metadata": {},
     "output_type": "execute_result"
    }
   ],
   "source": [
    "df.isna().sum()"
   ]
  },
  {
   "cell_type": "code",
   "execution_count": 502,
   "metadata": {},
   "outputs": [
    {
     "data": {
      "text/plain": [
       "np.int64(1042)"
      ]
     },
     "execution_count": 502,
     "metadata": {},
     "output_type": "execute_result"
    }
   ],
   "source": [
    "df.duplicated().sum()"
   ]
  },
  {
   "cell_type": "code",
   "execution_count": 503,
   "metadata": {},
   "outputs": [],
   "source": [
    "df.drop_duplicates(inplace=True)"
   ]
  },
  {
   "cell_type": "code",
   "execution_count": 504,
   "metadata": {},
   "outputs": [
    {
     "data": {
      "text/plain": [
       "(4637, 5)"
      ]
     },
     "execution_count": 504,
     "metadata": {},
     "output_type": "execute_result"
    }
   ],
   "source": [
    "df.shape"
   ]
  },
  {
   "cell_type": "code",
   "execution_count": 505,
   "metadata": {},
   "outputs": [
    {
     "data": {
      "text/plain": [
       "['Adidas',\n",
       " 'Asics',\n",
       " 'Bata',\n",
       " 'Buckaroo',\n",
       " 'Converse',\n",
       " 'Crocs',\n",
       " 'FILA',\n",
       " 'Footin',\n",
       " 'Franco Leone',\n",
       " 'Havaianas',\n",
       " 'Hidesign',\n",
       " 'Hush Puppies',\n",
       " 'Imperial India Company',\n",
       " 'LaBriza',\n",
       " 'Lavie',\n",
       " 'Lee Cooper',\n",
       " 'Liberty',\n",
       " 'Nike',\n",
       " 'Numero Uno',\n",
       " 'PUMA',\n",
       " 'Power',\n",
       " 'Reebok',\n",
       " 'Sting',\n",
       " 'Toms',\n",
       " 'Toni Rossi',\n",
       " 'Tory Burch',\n",
       " 'Tresmode',\n",
       " 'Umbro',\n",
       " 'Vanilla Moon',\n",
       " 'Woodland']"
      ]
     },
     "execution_count": 505,
     "metadata": {},
     "output_type": "execute_result"
    }
   ],
   "source": [
    "sorted(df[\"brand\"].unique())"
   ]
  },
  {
   "cell_type": "code",
   "execution_count": 506,
   "metadata": {},
   "outputs": [
    {
     "data": {
      "text/plain": [
       "array(['Black', 'Gold', 'Red', 'Blue', 'Brown', 'White', 'Black & Red',\n",
       "       'Bordo', 'Camel', 'Light Tan', 'Grey', 'Tan', 'Silver',\n",
       "       'Navy & Red', 'Green', 'Navy', 'Pink', 'Beige', 'Yellow', 'Orange',\n",
       "       'Grey & Blue', 'Purple', 'Blush', 'Multi', 'Gray', 'Off White',\n",
       "       'Grey & Red', 'Black & White', 'Midnight Blue ', 'Olive',\n",
       "       'Black/Orange', 'Khaki', 'Black & Maroon', 'Tan Light Brown',\n",
       "       'Black & Neon Green', 'Dark Brown', 'Rose Gold', 'Pewter',\n",
       "       'Multi Color', 'Charcoal', 'Makhani', 'Cognac', 'Black/Green',\n",
       "       'Cherry', 'Navy & Orange', 'Light Grey', 'White and Silver',\n",
       "       'Taupe', 'Ash', 'Reddish Brown', 'Cool Blue', 'Light Brown',\n",
       "       'Navy Blue', 'Black ', 'Natural White', 'Nude', 'Black/Blue',\n",
       "       'Champagne', 'Camel Brown', 'Black & Blue', 'Peach', 'Olive Green',\n",
       "       'Red & Black', 'Arabesco White', 'Coral', 'Khakhi', 'Tobacco',\n",
       "       'Gold Silver', 'Blue & White', 'Cream', 'Maroon', 'White ',\n",
       "       'Aqua Green', 'Black and White', 'Black/Red', 'Wine', 'Royal Blue',\n",
       "       'Denim', 'Black & Yellow', 'Black/Green Gecko', 'Natural',\n",
       "       'Silver/Yellow', 'Black & Green', 'Pink & Clematis Blue',\n",
       "       'Black Gold', 'Dark Tan', 'Cogac & Gold', 'Yellow & Blue',\n",
       "       'Ink Blue', 'Tango', 'White & Blue', 'Denim & White ',\n",
       "       'White & Silver', 'Dark Grey', 'Picante Red', 'Dark Denim',\n",
       "       'Orange & Tan', 'Mocca', 'White/Blue', 'Green & Blue', 'Malt',\n",
       "       'Navy Suede', 'Metsilver', 'Blue & Beige', 'Turquoise & White',\n",
       "       'Teak', 'Red & White', 'Black & Purple', 'Turquoise',\n",
       "       'Pink & Blue', 'Gold & Silver', 'Dark Blue', 'Sky Blue',\n",
       "       'Black & Neon', 'Gray/Blue'], dtype=object)"
      ]
     },
     "execution_count": 506,
     "metadata": {},
     "output_type": "execute_result"
    }
   ],
   "source": [
    "df[\"color\"].unique()"
   ]
  },
  {
   "cell_type": "code",
   "execution_count": 507,
   "metadata": {},
   "outputs": [
    {
     "data": {
      "text/plain": [
       "array(['6.5', '4', '6', '5', '8', '10', '11', '3', '7', '9', '2.5', '12',\n",
       "       '12.5', '2', '3.5', '13', '7.5', '10.5', '4.5', '8.5', '41', '40',\n",
       "       'UK-09', '9.5', 'UK-07', '14', '5.5', 'UK-10', 'UK-06', 'UK-08',\n",
       "       '15', '37', '16', 'UK-11', '39', '1', '38', '11.5'], dtype=object)"
      ]
     },
     "execution_count": 507,
     "metadata": {},
     "output_type": "execute_result"
    }
   ],
   "source": [
    "df[\"size\"].unique()"
   ]
  },
  {
   "cell_type": "code",
   "execution_count": 508,
   "metadata": {},
   "outputs": [],
   "source": [
    "df[\"brand\"] = df[\"brand\"].astype('category')\n",
    "df[\"color\"] = df[\"color\"].astype('category')\n",
    "df[\"size\"] = df[\"size\"].astype('category')"
   ]
  },
  {
   "cell_type": "code",
   "execution_count": 509,
   "metadata": {},
   "outputs": [],
   "source": [
    "df[\"brand\"] = df[\"brand\"].cat.codes\n",
    "df[\"color\"] = df[\"color\"].cat.codes\n",
    "df[\"size\"] = df[\"size\"].cat.codes"
   ]
  },
  {
   "cell_type": "code",
   "execution_count": 510,
   "metadata": {},
   "outputs": [
    {
     "data": {
      "text/html": [
       "<div>\n",
       "<style scoped>\n",
       "    .dataframe tbody tr th:only-of-type {\n",
       "        vertical-align: middle;\n",
       "    }\n",
       "\n",
       "    .dataframe tbody tr th {\n",
       "        vertical-align: top;\n",
       "    }\n",
       "\n",
       "    .dataframe thead th {\n",
       "        text-align: right;\n",
       "    }\n",
       "</style>\n",
       "<table border=\"1\" class=\"dataframe\">\n",
       "  <thead>\n",
       "    <tr style=\"text-align: right;\">\n",
       "      <th></th>\n",
       "      <th>brand</th>\n",
       "      <th>color</th>\n",
       "      <th>size</th>\n",
       "      <th>price</th>\n",
       "      <th>offer_price</th>\n",
       "    </tr>\n",
       "  </thead>\n",
       "  <tbody>\n",
       "    <tr>\n",
       "      <th>0</th>\n",
       "      <td>26</td>\n",
       "      <td>4</td>\n",
       "      <td>25</td>\n",
       "      <td>4647</td>\n",
       "      <td>4153</td>\n",
       "    </tr>\n",
       "    <tr>\n",
       "      <th>1</th>\n",
       "      <td>14</td>\n",
       "      <td>45</td>\n",
       "      <td>18</td>\n",
       "      <td>2446</td>\n",
       "      <td>1172</td>\n",
       "    </tr>\n",
       "    <tr>\n",
       "      <th>2</th>\n",
       "      <td>6</td>\n",
       "      <td>89</td>\n",
       "      <td>24</td>\n",
       "      <td>2346</td>\n",
       "      <td>1898</td>\n",
       "    </tr>\n",
       "    <tr>\n",
       "      <th>3</th>\n",
       "      <td>5</td>\n",
       "      <td>89</td>\n",
       "      <td>22</td>\n",
       "      <td>5942</td>\n",
       "      <td>5868</td>\n",
       "    </tr>\n",
       "    <tr>\n",
       "      <th>4</th>\n",
       "      <td>5</td>\n",
       "      <td>22</td>\n",
       "      <td>18</td>\n",
       "      <td>2942</td>\n",
       "      <td>2118</td>\n",
       "    </tr>\n",
       "  </tbody>\n",
       "</table>\n",
       "</div>"
      ],
      "text/plain": [
       "   brand  color  size  price  offer_price\n",
       "0     26      4    25   4647         4153\n",
       "1     14     45    18   2446         1172\n",
       "2      6     89    24   2346         1898\n",
       "3      5     89    22   5942         5868\n",
       "4      5     22    18   2942         2118"
      ]
     },
     "execution_count": 510,
     "metadata": {},
     "output_type": "execute_result"
    }
   ],
   "source": [
    "df.head()"
   ]
  },
  {
   "cell_type": "code",
   "execution_count": 511,
   "metadata": {},
   "outputs": [
    {
     "data": {
      "image/png": "[encoded data removed]",
      "text/plain": [
       "<Figure size 1000x800 with 2 Axes>"
      ]
     },
     "metadata": {},
     "output_type": "display_data"
    }
   ],
   "source": [
    "column = [\"brand\",\"color\",\"size\",\"price\",\"offer_price\"]\n",
    "corr = df[column].corr()\n",
    "plt.figure(figsize=(10, 8))\n",
    "sns.heatmap(corr, annot=True, cmap='coolwarm', linewidths=0.5)\n",
    "plt.title('Correlation Analysis')\n",
    "plt.show()"
   ]
  },
  {
   "cell_type": "code",
   "execution_count": 512,
   "metadata": {},
   "outputs": [
    {
     "data": {
      "image/png": "[encoded data removed]",
      "text/plain": [
       "<Figure size 640x480 with 1 Axes>"
      ]
     },
     "metadata": {},
     "output_type": "display_data"
    }
   ],
   "source": [
    "column = df[[\"price\",\"offer_price\"]]\n",
    "\n",
    "column.boxplot()\n",
    "plt.title(\"Outliers\")\n",
    "plt.show()"
   ]
  },
  {
   "cell_type": "code",
   "execution_count": 513,
   "metadata": {},
   "outputs": [
    {
     "data": {
      "text/html": [
       "<div>\n",
       "<style scoped>\n",
       "    .dataframe tbody tr th:only-of-type {\n",
       "        vertical-align: middle;\n",
       "    }\n",
       "\n",
       "    .dataframe tbody tr th {\n",
       "        vertical-align: top;\n",
       "    }\n",
       "\n",
       "    .dataframe thead th {\n",
       "        text-align: right;\n",
       "    }\n",
       "</style>\n",
       "<table border=\"1\" class=\"dataframe\">\n",
       "  <thead>\n",
       "    <tr style=\"text-align: right;\">\n",
       "      <th></th>\n",
       "      <th>brand</th>\n",
       "      <th>color</th>\n",
       "      <th>size</th>\n",
       "      <th>price</th>\n",
       "      <th>offer_price</th>\n",
       "    </tr>\n",
       "  </thead>\n",
       "  <tbody>\n",
       "    <tr>\n",
       "      <th>0</th>\n",
       "      <td>26</td>\n",
       "      <td>4</td>\n",
       "      <td>25</td>\n",
       "      <td>4647</td>\n",
       "      <td>4153</td>\n",
       "    </tr>\n",
       "    <tr>\n",
       "      <th>1</th>\n",
       "      <td>14</td>\n",
       "      <td>45</td>\n",
       "      <td>18</td>\n",
       "      <td>2446</td>\n",
       "      <td>1172</td>\n",
       "    </tr>\n",
       "    <tr>\n",
       "      <th>2</th>\n",
       "      <td>6</td>\n",
       "      <td>89</td>\n",
       "      <td>24</td>\n",
       "      <td>2346</td>\n",
       "      <td>1898</td>\n",
       "    </tr>\n",
       "    <tr>\n",
       "      <th>3</th>\n",
       "      <td>5</td>\n",
       "      <td>89</td>\n",
       "      <td>22</td>\n",
       "      <td>5942</td>\n",
       "      <td>5868</td>\n",
       "    </tr>\n",
       "    <tr>\n",
       "      <th>4</th>\n",
       "      <td>5</td>\n",
       "      <td>22</td>\n",
       "      <td>18</td>\n",
       "      <td>2942</td>\n",
       "      <td>2118</td>\n",
       "    </tr>\n",
       "    <tr>\n",
       "      <th>...</th>\n",
       "      <td>...</td>\n",
       "      <td>...</td>\n",
       "      <td>...</td>\n",
       "      <td>...</td>\n",
       "      <td>...</td>\n",
       "    </tr>\n",
       "    <tr>\n",
       "      <th>5669</th>\n",
       "      <td>6</td>\n",
       "      <td>4</td>\n",
       "      <td>26</td>\n",
       "      <td>4146</td>\n",
       "      <td>3343</td>\n",
       "    </tr>\n",
       "    <tr>\n",
       "      <th>5670</th>\n",
       "      <td>8</td>\n",
       "      <td>4</td>\n",
       "      <td>28</td>\n",
       "      <td>2142</td>\n",
       "      <td>1053</td>\n",
       "    </tr>\n",
       "    <tr>\n",
       "      <th>5673</th>\n",
       "      <td>6</td>\n",
       "      <td>52</td>\n",
       "      <td>3</td>\n",
       "      <td>3046</td>\n",
       "      <td>2172</td>\n",
       "    </tr>\n",
       "    <tr>\n",
       "      <th>5674</th>\n",
       "      <td>23</td>\n",
       "      <td>91</td>\n",
       "      <td>18</td>\n",
       "      <td>6747</td>\n",
       "      <td>5098</td>\n",
       "    </tr>\n",
       "    <tr>\n",
       "      <th>5676</th>\n",
       "      <td>23</td>\n",
       "      <td>22</td>\n",
       "      <td>30</td>\n",
       "      <td>4847</td>\n",
       "      <td>3673</td>\n",
       "    </tr>\n",
       "  </tbody>\n",
       "</table>\n",
       "<p>4433 rows × 5 columns</p>\n",
       "</div>"
      ],
      "text/plain": [
       "      brand  color  size  price  offer_price\n",
       "0        26      4    25   4647         4153\n",
       "1        14     45    18   2446         1172\n",
       "2         6     89    24   2346         1898\n",
       "3         5     89    22   5942         5868\n",
       "4         5     22    18   2942         2118\n",
       "...     ...    ...   ...    ...          ...\n",
       "5669      6      4    26   4146         3343\n",
       "5670      8      4    28   2142         1053\n",
       "5673      6     52     3   3046         2172\n",
       "5674     23     91    18   6747         5098\n",
       "5676     23     22    30   4847         3673\n",
       "\n",
       "[4433 rows x 5 columns]"
      ]
     },
     "execution_count": 513,
     "metadata": {},
     "output_type": "execute_result"
    }
   ],
   "source": [
    "df = df[df[\"price\"]<15000]\n",
    "df"
   ]
  },
  {
   "cell_type": "code",
   "execution_count": 514,
   "metadata": {},
   "outputs": [],
   "source": [
    "scaler = StandardScaler()\n",
    "\n",
    "data_scaler = scaler.fit_transform(df)\n",
    "\n",
    "df_scaler = pd.DataFrame(data_scaler, columns=df.columns)"
   ]
  },
  {
   "cell_type": "code",
   "execution_count": 515,
   "metadata": {},
   "outputs": [],
   "source": [
    "X = df_scaler.drop(columns=[\"price\"])\n",
    "y = df_scaler[\"price\"]\n",
    "\n",
    "X_train, X_test, y_train, y_test = train_test_split(X, y, test_size=0.2, random_state=9)"
   ]
  },
  {
   "cell_type": "code",
   "execution_count": 516,
   "metadata": {},
   "outputs": [],
   "source": [
    "def evaluate(model,X_train,y_train,X_test,y_test):\n",
    "    model.fit(X_train, y_train)\n",
    "    y_pred = model.predict(X_test)\n",
    "\n",
    "    mse = MSE(y_test, y_pred)\n",
    "    score = r2_score(y_test, y_pred)\n",
    "\n",
    "    print(\"mse  : \",mse)\n",
    "    print(\"score  : \",score)\n",
    "\n",
    "    return mse\n"
   ]
  },
  {
   "cell_type": "code",
   "execution_count": 517,
   "metadata": {},
   "outputs": [],
   "source": [
    "knn = KNeighborsRegressor()\n",
    "linr = LinearRegression()\n",
    "ridge = Ridge(alpha=10)\n",
    "rf = RandomForestRegressor(n_estimators=10,random_state=9)\n",
    "dt = DecisionTreeRegressor(max_depth=10,min_samples_leaf=0.13,random_state=9)\n",
    "gb = GradientBoostingRegressor(max_depth=6,n_estimators=10,random_state=9)\n"
   ]
  },
  {
   "cell_type": "code",
   "execution_count": 518,
   "metadata": {},
   "outputs": [],
   "source": [
    "models = {\"KNeighborsRegressor\":knn,\"LinearRegression\":linr,\"Ridge\":ridge,\"RandomForestRegressor\":rf,\"DecisionTreeRegressor\":dt,\"GradientBoostingRegressor\":gb}"
   ]
  },
  {
   "cell_type": "code",
   "execution_count": 519,
   "metadata": {},
   "outputs": [
    {
     "name": "stdout",
     "output_type": "stream",
     "text": [
      "KNeighborsRegressor\n",
      "mse  :  0.11736322258021878\n",
      "score  :  0.8688860077153107\n",
      "\n",
      "LinearRegression\n",
      "mse  :  0.21450368428251862\n",
      "score  :  0.7603641601879815\n",
      "\n",
      "Ridge\n",
      "mse  :  0.2144055682364365\n",
      "score  :  0.7604737719234655\n",
      "\n",
      "RandomForestRegressor\n",
      "mse  :  0.029587907423752856\n",
      "score  :  0.9669454486644959\n",
      "\n",
      "DecisionTreeRegressor\n",
      "mse  :  0.29907072047924704\n",
      "score  :  0.6658888936805523\n",
      "\n",
      "GradientBoostingRegressor\n",
      "mse  :  0.16775106326129213\n",
      "score  :  0.8125945152949763\n",
      "\n"
     ]
    }
   ],
   "source": [
    "mse = {}\n",
    "\n",
    "for name,model in models.items():\n",
    "    print(name)\n",
    "    value = evaluate(model,X_train,y_train,X_test,y_test)\n",
    "    mse[name] = value\n",
    "    print()"
   ]
  },
  {
   "cell_type": "code",
   "execution_count": 536,
   "metadata": {},
   "outputs": [
    {
     "data": {
      "image/png": "[encoded data removed]",
      "text/plain": [
       "<Figure size 1800x800 with 1 Axes>"
      ]
     },
     "metadata": {},
     "output_type": "display_data"
    }
   ],
   "source": [
    "sorted_mse = dict(sorted(mse.items(), key=lambda item: item[1]))\n",
    "\n",
    "names = list(sorted_mse.keys())\n",
    "values = list(sorted_mse.values())\n",
    "\n",
    "plt.figure(figsize=(18, 8))\n",
    "plt.bar(range(len(mse)), values, tick_label=names)\n",
    "plt.show()\n"
   ]
  }
 ],
 "metadata": {
  "kernelspec": {
   "display_name": "Python 3",
   "language": "python",
   "name": "python3"
  },
  "language_info": {
   "codemirror_mode": {
    "name": "ipython",
    "version": 3
   },
   "file_extension": ".py",
   "mimetype": "text/x-python",
   "name": "python",
   "nbconvert_exporter": "python",
   "pygments_lexer": "ipython3",
   "version": "3.9.6"
  }
 },
 "nbformat": 4,
 "nbformat_minor": 2
}
